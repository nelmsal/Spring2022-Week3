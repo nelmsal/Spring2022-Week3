{
 "cells": [
  {
   "cell_type": "markdown",
   "metadata": {},
   "source": [
    "# ML Basics, warming up with small data"
   ]
  },
  {
   "cell_type": "code",
   "execution_count": 105,
   "metadata": {},
   "outputs": [
    {
     "name": "stdout",
     "output_type": "stream",
     "text": [
      "C:\\Users\\nelms\\Documents\\Penn\\MUSA-650\\Week3\n"
     ]
    }
   ],
   "source": [
    "import sys \n",
    "sys.executable\n",
    "import os \n",
    "print(os.getcwd())\n",
    "#os.chdir('.\\Week3')\n",
    "#print(os.environ)"
   ]
  },
  {
   "cell_type": "code",
   "execution_count": 106,
   "metadata": {},
   "outputs": [
    {
     "name": "stdout",
     "output_type": "stream",
     "text": [
      "Automatically created module for IPython interactive environment\n"
     ]
    }
   ],
   "source": [
    "print(__doc__)\n",
    "\n",
    "import matplotlib.pyplot as plt\n",
    "from sklearn import datasets\n",
    "from sklearn.decomposition import PCA\n",
    "from sklearn import metrics\n",
    "import pandas as pd\n",
    "import seaborn as sns\n",
    "import numpy as np"
   ]
  },
  {
   "cell_type": "markdown",
   "metadata": {},
   "source": [
    "### Read poll data"
   ]
  },
  {
   "cell_type": "code",
   "execution_count": 107,
   "metadata": {},
   "outputs": [
    {
     "data": {
      "text/html": [
       "<div>\n",
       "<style scoped>\n",
       "    .dataframe tbody tr th:only-of-type {\n",
       "        vertical-align: middle;\n",
       "    }\n",
       "\n",
       "    .dataframe tbody tr th {\n",
       "        vertical-align: top;\n",
       "    }\n",
       "\n",
       "    .dataframe thead th {\n",
       "        text-align: right;\n",
       "    }\n",
       "</style>\n",
       "<table border=\"1\" class=\"dataframe\">\n",
       "  <thead>\n",
       "    <tr style=\"text-align: right;\">\n",
       "      <th></th>\n",
       "      <th>Timestamp</th>\n",
       "      <th>Q1_General background in data analysis?</th>\n",
       "      <th>Q2_Hands-on experience in data analysis using Python?</th>\n",
       "      <th>Q3_Experience in programming in general?</th>\n",
       "      <th>Q4_General background in machine learning?</th>\n",
       "      <th>Q5_Hands-on experience in running machine learning applications?</th>\n",
       "      <th>Q6_Which one would you prefer on a Sunday afternoon?</th>\n",
       "      <th>Q7_Hands-on experience in image analysis using satellite images?</th>\n",
       "      <th>Q8_Level of interest in mathematics?</th>\n",
       "      <th>Q9_Level of interest in reading?</th>\n",
       "      <th>Q10_Level of stress about this class?</th>\n",
       "      <th>Q11_Your overall motivation about this class?</th>\n",
       "    </tr>\n",
       "  </thead>\n",
       "  <tbody>\n",
       "    <tr>\n",
       "      <th>0</th>\n",
       "      <td>2020/01/14 5:11:10 PM EST</td>\n",
       "      <td>8</td>\n",
       "      <td>5</td>\n",
       "      <td>4</td>\n",
       "      <td>6</td>\n",
       "      <td>7</td>\n",
       "      <td>Running</td>\n",
       "      <td>5</td>\n",
       "      <td>3</td>\n",
       "      <td>5</td>\n",
       "      <td>7</td>\n",
       "      <td>3</td>\n",
       "    </tr>\n",
       "    <tr>\n",
       "      <th>1</th>\n",
       "      <td>2020/01/14 5:15:45 PM EST</td>\n",
       "      <td>8</td>\n",
       "      <td>8</td>\n",
       "      <td>5</td>\n",
       "      <td>5</td>\n",
       "      <td>6</td>\n",
       "      <td>Reading</td>\n",
       "      <td>7</td>\n",
       "      <td>7</td>\n",
       "      <td>6</td>\n",
       "      <td>7</td>\n",
       "      <td>8</td>\n",
       "    </tr>\n",
       "    <tr>\n",
       "      <th>2</th>\n",
       "      <td>2020/01/14 10:10:14 PM EST</td>\n",
       "      <td>6</td>\n",
       "      <td>6</td>\n",
       "      <td>6</td>\n",
       "      <td>6</td>\n",
       "      <td>5</td>\n",
       "      <td>Watching a movie</td>\n",
       "      <td>7</td>\n",
       "      <td>7</td>\n",
       "      <td>7</td>\n",
       "      <td>7</td>\n",
       "      <td>7</td>\n",
       "    </tr>\n",
       "    <tr>\n",
       "      <th>3</th>\n",
       "      <td>2020/01/15 10:02:48 AM EST</td>\n",
       "      <td>5</td>\n",
       "      <td>3</td>\n",
       "      <td>6</td>\n",
       "      <td>4</td>\n",
       "      <td>4</td>\n",
       "      <td>Watching a movie</td>\n",
       "      <td>3</td>\n",
       "      <td>8</td>\n",
       "      <td>8</td>\n",
       "      <td>5</td>\n",
       "      <td>10</td>\n",
       "    </tr>\n",
       "    <tr>\n",
       "      <th>4</th>\n",
       "      <td>2020/01/15 10:03:20 AM EST</td>\n",
       "      <td>6</td>\n",
       "      <td>6</td>\n",
       "      <td>5</td>\n",
       "      <td>4</td>\n",
       "      <td>3</td>\n",
       "      <td>Reading</td>\n",
       "      <td>4</td>\n",
       "      <td>5</td>\n",
       "      <td>4</td>\n",
       "      <td>10</td>\n",
       "      <td>8</td>\n",
       "    </tr>\n",
       "  </tbody>\n",
       "</table>\n",
       "</div>"
      ],
      "text/plain": [
       "                    Timestamp  Q1_General background in data analysis?  \\\n",
       "0   2020/01/14 5:11:10 PM EST                                        8   \n",
       "1   2020/01/14 5:15:45 PM EST                                        8   \n",
       "2  2020/01/14 10:10:14 PM EST                                        6   \n",
       "3  2020/01/15 10:02:48 AM EST                                        5   \n",
       "4  2020/01/15 10:03:20 AM EST                                        6   \n",
       "\n",
       "   Q2_Hands-on experience in data analysis using Python?  \\\n",
       "0                                                  5       \n",
       "1                                                  8       \n",
       "2                                                  6       \n",
       "3                                                  3       \n",
       "4                                                  6       \n",
       "\n",
       "   Q3_Experience in programming in general?  \\\n",
       "0                                         4   \n",
       "1                                         5   \n",
       "2                                         6   \n",
       "3                                         6   \n",
       "4                                         5   \n",
       "\n",
       "   Q4_General background in machine learning?  \\\n",
       "0                                           6   \n",
       "1                                           5   \n",
       "2                                           6   \n",
       "3                                           4   \n",
       "4                                           4   \n",
       "\n",
       "   Q5_Hands-on experience in running machine learning applications?  \\\n",
       "0                                                  7                  \n",
       "1                                                  6                  \n",
       "2                                                  5                  \n",
       "3                                                  4                  \n",
       "4                                                  3                  \n",
       "\n",
       "  Q6_Which one would you prefer on a Sunday afternoon?  \\\n",
       "0                                            Running     \n",
       "1                                            Reading     \n",
       "2                                   Watching a movie     \n",
       "3                                   Watching a movie     \n",
       "4                                            Reading     \n",
       "\n",
       "   Q7_Hands-on experience in image analysis using satellite images?  \\\n",
       "0                                                  5                  \n",
       "1                                                  7                  \n",
       "2                                                  7                  \n",
       "3                                                  3                  \n",
       "4                                                  4                  \n",
       "\n",
       "   Q8_Level of interest in mathematics?  Q9_Level of interest in reading?  \\\n",
       "0                                     3                                 5   \n",
       "1                                     7                                 6   \n",
       "2                                     7                                 7   \n",
       "3                                     8                                 8   \n",
       "4                                     5                                 4   \n",
       "\n",
       "   Q10_Level of stress about this class?  \\\n",
       "0                                      7   \n",
       "1                                      7   \n",
       "2                                      7   \n",
       "3                                      5   \n",
       "4                                     10   \n",
       "\n",
       "   Q11_Your overall motivation about this class?  \n",
       "0                                              3  \n",
       "1                                              8  \n",
       "2                                              7  \n",
       "3                                             10  \n",
       "4                                              8  "
      ]
     },
     "execution_count": 107,
     "metadata": {},
     "output_type": "execute_result"
    }
   ],
   "source": [
    "df20 = pd.read_csv(('./Data/MUSA-650-WelcomePoll_2020.csv'))\n",
    "df20.head()"
   ]
  },
  {
   "cell_type": "code",
   "execution_count": 108,
   "metadata": {},
   "outputs": [
    {
     "data": {
      "text/html": [
       "<div>\n",
       "<style scoped>\n",
       "    .dataframe tbody tr th:only-of-type {\n",
       "        vertical-align: middle;\n",
       "    }\n",
       "\n",
       "    .dataframe tbody tr th {\n",
       "        vertical-align: top;\n",
       "    }\n",
       "\n",
       "    .dataframe thead th {\n",
       "        text-align: right;\n",
       "    }\n",
       "</style>\n",
       "<table border=\"1\" class=\"dataframe\">\n",
       "  <thead>\n",
       "    <tr style=\"text-align: right;\">\n",
       "      <th></th>\n",
       "      <th>Timestamp</th>\n",
       "      <th>Q1_General background in data analysis?</th>\n",
       "      <th>Q2_Hands-on experience in data analysis using Python?</th>\n",
       "      <th>Q3_Experience in programming in general?\\t</th>\n",
       "      <th>Q4_General background in machine learning?\\t</th>\n",
       "      <th>Q5_Hands-on experience in running machine learning applications?\\t</th>\n",
       "      <th>Q6_Which one would you prefer on a Sunday afternoon?\\t</th>\n",
       "      <th>Q7_Hands-on experience in image analysis using satellite images?\\t</th>\n",
       "      <th>Q8_Level of interest in mathematics?\\t</th>\n",
       "      <th>Q9_Level of interest in reading?\\t</th>\n",
       "      <th>Q10_Level of stress about this class?\\t</th>\n",
       "      <th>Q11_Your overall motivation about this class?</th>\n",
       "    </tr>\n",
       "  </thead>\n",
       "  <tbody>\n",
       "    <tr>\n",
       "      <th>0</th>\n",
       "      <td>1/12/2022 12:00:11</td>\n",
       "      <td>7</td>\n",
       "      <td>8</td>\n",
       "      <td>7</td>\n",
       "      <td>3</td>\n",
       "      <td>2</td>\n",
       "      <td>Watching a movie</td>\n",
       "      <td>7</td>\n",
       "      <td>7</td>\n",
       "      <td>7</td>\n",
       "      <td>7</td>\n",
       "      <td>9</td>\n",
       "    </tr>\n",
       "    <tr>\n",
       "      <th>1</th>\n",
       "      <td>1/12/2022 12:00:20</td>\n",
       "      <td>7</td>\n",
       "      <td>6</td>\n",
       "      <td>7</td>\n",
       "      <td>5</td>\n",
       "      <td>5</td>\n",
       "      <td>Reading</td>\n",
       "      <td>4</td>\n",
       "      <td>6</td>\n",
       "      <td>8</td>\n",
       "      <td>6</td>\n",
       "      <td>8</td>\n",
       "    </tr>\n",
       "    <tr>\n",
       "      <th>2</th>\n",
       "      <td>1/12/2022 12:00:20</td>\n",
       "      <td>6</td>\n",
       "      <td>6</td>\n",
       "      <td>7</td>\n",
       "      <td>6</td>\n",
       "      <td>4</td>\n",
       "      <td>Watching a movie</td>\n",
       "      <td>2</td>\n",
       "      <td>3</td>\n",
       "      <td>3</td>\n",
       "      <td>7</td>\n",
       "      <td>5</td>\n",
       "    </tr>\n",
       "    <tr>\n",
       "      <th>3</th>\n",
       "      <td>1/12/2022 12:00:27</td>\n",
       "      <td>8</td>\n",
       "      <td>7</td>\n",
       "      <td>8</td>\n",
       "      <td>6</td>\n",
       "      <td>3</td>\n",
       "      <td>Coding for the homework, project or just for fun</td>\n",
       "      <td>4</td>\n",
       "      <td>6</td>\n",
       "      <td>9</td>\n",
       "      <td>5</td>\n",
       "      <td>9</td>\n",
       "    </tr>\n",
       "    <tr>\n",
       "      <th>4</th>\n",
       "      <td>1/12/2022 12:00:29</td>\n",
       "      <td>3</td>\n",
       "      <td>3</td>\n",
       "      <td>3</td>\n",
       "      <td>3</td>\n",
       "      <td>3</td>\n",
       "      <td>Reading</td>\n",
       "      <td>3</td>\n",
       "      <td>6</td>\n",
       "      <td>8</td>\n",
       "      <td>10</td>\n",
       "      <td>10</td>\n",
       "    </tr>\n",
       "  </tbody>\n",
       "</table>\n",
       "</div>"
      ],
      "text/plain": [
       "            Timestamp  Q1_General background in data analysis?  \\\n",
       "0  1/12/2022 12:00:11                                        7   \n",
       "1  1/12/2022 12:00:20                                        7   \n",
       "2  1/12/2022 12:00:20                                        6   \n",
       "3  1/12/2022 12:00:27                                        8   \n",
       "4  1/12/2022 12:00:29                                        3   \n",
       "\n",
       "   Q2_Hands-on experience in data analysis using Python?  \\\n",
       "0                                                  8       \n",
       "1                                                  6       \n",
       "2                                                  6       \n",
       "3                                                  7       \n",
       "4                                                  3       \n",
       "\n",
       "   Q3_Experience in programming in general?\\t  \\\n",
       "0                                           7   \n",
       "1                                           7   \n",
       "2                                           7   \n",
       "3                                           8   \n",
       "4                                           3   \n",
       "\n",
       "   Q4_General background in machine learning?\\t  \\\n",
       "0                                             3   \n",
       "1                                             5   \n",
       "2                                             6   \n",
       "3                                             6   \n",
       "4                                             3   \n",
       "\n",
       "   Q5_Hands-on experience in running machine learning applications?\\t  \\\n",
       "0                                                  2                    \n",
       "1                                                  5                    \n",
       "2                                                  4                    \n",
       "3                                                  3                    \n",
       "4                                                  3                    \n",
       "\n",
       "  Q6_Which one would you prefer on a Sunday afternoon?\\t  \\\n",
       "0                                   Watching a movie       \n",
       "1                                            Reading       \n",
       "2                                   Watching a movie       \n",
       "3   Coding for the homework, project or just for fun       \n",
       "4                                            Reading       \n",
       "\n",
       "   Q7_Hands-on experience in image analysis using satellite images?\\t  \\\n",
       "0                                                  7                    \n",
       "1                                                  4                    \n",
       "2                                                  2                    \n",
       "3                                                  4                    \n",
       "4                                                  3                    \n",
       "\n",
       "   Q8_Level of interest in mathematics?\\t  Q9_Level of interest in reading?\\t  \\\n",
       "0                                       7                                   7   \n",
       "1                                       6                                   8   \n",
       "2                                       3                                   3   \n",
       "3                                       6                                   9   \n",
       "4                                       6                                   8   \n",
       "\n",
       "   Q10_Level of stress about this class?\\t  \\\n",
       "0                                        7   \n",
       "1                                        6   \n",
       "2                                        7   \n",
       "3                                        5   \n",
       "4                                       10   \n",
       "\n",
       "   Q11_Your overall motivation about this class?  \n",
       "0                                              9  \n",
       "1                                              8  \n",
       "2                                              5  \n",
       "3                                              9  \n",
       "4                                             10  "
      ]
     },
     "execution_count": 108,
     "metadata": {},
     "output_type": "execute_result"
    }
   ],
   "source": [
    "df22 = pd.read_csv(('./Data/MUSA-650-WelcomePoll_2022.csv'))\n",
    "df22.head()"
   ]
  },
  {
   "cell_type": "markdown",
   "metadata": {},
   "source": [
    "### We skip the timestamp for now "
   ]
  },
  {
   "cell_type": "code",
   "execution_count": 109,
   "metadata": {},
   "outputs": [
    {
     "data": {
      "text/html": [
       "<div>\n",
       "<style scoped>\n",
       "    .dataframe tbody tr th:only-of-type {\n",
       "        vertical-align: middle;\n",
       "    }\n",
       "\n",
       "    .dataframe tbody tr th {\n",
       "        vertical-align: top;\n",
       "    }\n",
       "\n",
       "    .dataframe thead th {\n",
       "        text-align: right;\n",
       "    }\n",
       "</style>\n",
       "<table border=\"1\" class=\"dataframe\">\n",
       "  <thead>\n",
       "    <tr style=\"text-align: right;\">\n",
       "      <th></th>\n",
       "      <th>Q1_General background in data analysis?</th>\n",
       "      <th>Q2_Hands-on experience in data analysis using Python?</th>\n",
       "      <th>Q3_Experience in programming in general?</th>\n",
       "      <th>Q4_General background in machine learning?</th>\n",
       "      <th>Q5_Hands-on experience in running machine learning applications?</th>\n",
       "      <th>Q6_Which one would you prefer on a Sunday afternoon?</th>\n",
       "      <th>Q7_Hands-on experience in image analysis using satellite images?</th>\n",
       "      <th>Q8_Level of interest in mathematics?</th>\n",
       "      <th>Q9_Level of interest in reading?</th>\n",
       "      <th>Q10_Level of stress about this class?</th>\n",
       "      <th>Q11_Your overall motivation about this class?</th>\n",
       "    </tr>\n",
       "  </thead>\n",
       "  <tbody>\n",
       "    <tr>\n",
       "      <th>0</th>\n",
       "      <td>8</td>\n",
       "      <td>5</td>\n",
       "      <td>4</td>\n",
       "      <td>6</td>\n",
       "      <td>7</td>\n",
       "      <td>Running</td>\n",
       "      <td>5</td>\n",
       "      <td>3</td>\n",
       "      <td>5</td>\n",
       "      <td>7</td>\n",
       "      <td>3</td>\n",
       "    </tr>\n",
       "    <tr>\n",
       "      <th>1</th>\n",
       "      <td>8</td>\n",
       "      <td>8</td>\n",
       "      <td>5</td>\n",
       "      <td>5</td>\n",
       "      <td>6</td>\n",
       "      <td>Reading</td>\n",
       "      <td>7</td>\n",
       "      <td>7</td>\n",
       "      <td>6</td>\n",
       "      <td>7</td>\n",
       "      <td>8</td>\n",
       "    </tr>\n",
       "    <tr>\n",
       "      <th>2</th>\n",
       "      <td>6</td>\n",
       "      <td>6</td>\n",
       "      <td>6</td>\n",
       "      <td>6</td>\n",
       "      <td>5</td>\n",
       "      <td>Watching a movie</td>\n",
       "      <td>7</td>\n",
       "      <td>7</td>\n",
       "      <td>7</td>\n",
       "      <td>7</td>\n",
       "      <td>7</td>\n",
       "    </tr>\n",
       "    <tr>\n",
       "      <th>3</th>\n",
       "      <td>5</td>\n",
       "      <td>3</td>\n",
       "      <td>6</td>\n",
       "      <td>4</td>\n",
       "      <td>4</td>\n",
       "      <td>Watching a movie</td>\n",
       "      <td>3</td>\n",
       "      <td>8</td>\n",
       "      <td>8</td>\n",
       "      <td>5</td>\n",
       "      <td>10</td>\n",
       "    </tr>\n",
       "    <tr>\n",
       "      <th>4</th>\n",
       "      <td>6</td>\n",
       "      <td>6</td>\n",
       "      <td>5</td>\n",
       "      <td>4</td>\n",
       "      <td>3</td>\n",
       "      <td>Reading</td>\n",
       "      <td>4</td>\n",
       "      <td>5</td>\n",
       "      <td>4</td>\n",
       "      <td>10</td>\n",
       "      <td>8</td>\n",
       "    </tr>\n",
       "  </tbody>\n",
       "</table>\n",
       "</div>"
      ],
      "text/plain": [
       "   Q1_General background in data analysis?  \\\n",
       "0                                        8   \n",
       "1                                        8   \n",
       "2                                        6   \n",
       "3                                        5   \n",
       "4                                        6   \n",
       "\n",
       "   Q2_Hands-on experience in data analysis using Python?  \\\n",
       "0                                                  5       \n",
       "1                                                  8       \n",
       "2                                                  6       \n",
       "3                                                  3       \n",
       "4                                                  6       \n",
       "\n",
       "   Q3_Experience in programming in general?  \\\n",
       "0                                         4   \n",
       "1                                         5   \n",
       "2                                         6   \n",
       "3                                         6   \n",
       "4                                         5   \n",
       "\n",
       "   Q4_General background in machine learning?  \\\n",
       "0                                           6   \n",
       "1                                           5   \n",
       "2                                           6   \n",
       "3                                           4   \n",
       "4                                           4   \n",
       "\n",
       "   Q5_Hands-on experience in running machine learning applications?  \\\n",
       "0                                                  7                  \n",
       "1                                                  6                  \n",
       "2                                                  5                  \n",
       "3                                                  4                  \n",
       "4                                                  3                  \n",
       "\n",
       "  Q6_Which one would you prefer on a Sunday afternoon?  \\\n",
       "0                                            Running     \n",
       "1                                            Reading     \n",
       "2                                   Watching a movie     \n",
       "3                                   Watching a movie     \n",
       "4                                            Reading     \n",
       "\n",
       "   Q7_Hands-on experience in image analysis using satellite images?  \\\n",
       "0                                                  5                  \n",
       "1                                                  7                  \n",
       "2                                                  7                  \n",
       "3                                                  3                  \n",
       "4                                                  4                  \n",
       "\n",
       "   Q8_Level of interest in mathematics?  Q9_Level of interest in reading?  \\\n",
       "0                                     3                                 5   \n",
       "1                                     7                                 6   \n",
       "2                                     7                                 7   \n",
       "3                                     8                                 8   \n",
       "4                                     5                                 4   \n",
       "\n",
       "   Q10_Level of stress about this class?  \\\n",
       "0                                      7   \n",
       "1                                      7   \n",
       "2                                      7   \n",
       "3                                      5   \n",
       "4                                     10   \n",
       "\n",
       "   Q11_Your overall motivation about this class?  \n",
       "0                                              3  \n",
       "1                                              8  \n",
       "2                                              7  \n",
       "3                                             10  \n",
       "4                                              8  "
      ]
     },
     "execution_count": 109,
     "metadata": {},
     "output_type": "execute_result"
    }
   ],
   "source": [
    "df20 = df20[df20.columns[1:]]\n",
    "df20.head()"
   ]
  },
  {
   "cell_type": "code",
   "execution_count": 110,
   "metadata": {},
   "outputs": [
    {
     "data": {
      "text/html": [
       "<div>\n",
       "<style scoped>\n",
       "    .dataframe tbody tr th:only-of-type {\n",
       "        vertical-align: middle;\n",
       "    }\n",
       "\n",
       "    .dataframe tbody tr th {\n",
       "        vertical-align: top;\n",
       "    }\n",
       "\n",
       "    .dataframe thead th {\n",
       "        text-align: right;\n",
       "    }\n",
       "</style>\n",
       "<table border=\"1\" class=\"dataframe\">\n",
       "  <thead>\n",
       "    <tr style=\"text-align: right;\">\n",
       "      <th></th>\n",
       "      <th>Q1_General background in data analysis?</th>\n",
       "      <th>Q2_Hands-on experience in data analysis using Python?</th>\n",
       "      <th>Q3_Experience in programming in general?\\t</th>\n",
       "      <th>Q4_General background in machine learning?\\t</th>\n",
       "      <th>Q5_Hands-on experience in running machine learning applications?\\t</th>\n",
       "      <th>Q6_Which one would you prefer on a Sunday afternoon?\\t</th>\n",
       "      <th>Q7_Hands-on experience in image analysis using satellite images?\\t</th>\n",
       "      <th>Q8_Level of interest in mathematics?\\t</th>\n",
       "      <th>Q9_Level of interest in reading?\\t</th>\n",
       "      <th>Q10_Level of stress about this class?\\t</th>\n",
       "      <th>Q11_Your overall motivation about this class?</th>\n",
       "    </tr>\n",
       "  </thead>\n",
       "  <tbody>\n",
       "    <tr>\n",
       "      <th>0</th>\n",
       "      <td>7</td>\n",
       "      <td>8</td>\n",
       "      <td>7</td>\n",
       "      <td>3</td>\n",
       "      <td>2</td>\n",
       "      <td>Watching a movie</td>\n",
       "      <td>7</td>\n",
       "      <td>7</td>\n",
       "      <td>7</td>\n",
       "      <td>7</td>\n",
       "      <td>9</td>\n",
       "    </tr>\n",
       "    <tr>\n",
       "      <th>1</th>\n",
       "      <td>7</td>\n",
       "      <td>6</td>\n",
       "      <td>7</td>\n",
       "      <td>5</td>\n",
       "      <td>5</td>\n",
       "      <td>Reading</td>\n",
       "      <td>4</td>\n",
       "      <td>6</td>\n",
       "      <td>8</td>\n",
       "      <td>6</td>\n",
       "      <td>8</td>\n",
       "    </tr>\n",
       "    <tr>\n",
       "      <th>2</th>\n",
       "      <td>6</td>\n",
       "      <td>6</td>\n",
       "      <td>7</td>\n",
       "      <td>6</td>\n",
       "      <td>4</td>\n",
       "      <td>Watching a movie</td>\n",
       "      <td>2</td>\n",
       "      <td>3</td>\n",
       "      <td>3</td>\n",
       "      <td>7</td>\n",
       "      <td>5</td>\n",
       "    </tr>\n",
       "    <tr>\n",
       "      <th>3</th>\n",
       "      <td>8</td>\n",
       "      <td>7</td>\n",
       "      <td>8</td>\n",
       "      <td>6</td>\n",
       "      <td>3</td>\n",
       "      <td>Coding for the homework, project or just for fun</td>\n",
       "      <td>4</td>\n",
       "      <td>6</td>\n",
       "      <td>9</td>\n",
       "      <td>5</td>\n",
       "      <td>9</td>\n",
       "    </tr>\n",
       "    <tr>\n",
       "      <th>4</th>\n",
       "      <td>3</td>\n",
       "      <td>3</td>\n",
       "      <td>3</td>\n",
       "      <td>3</td>\n",
       "      <td>3</td>\n",
       "      <td>Reading</td>\n",
       "      <td>3</td>\n",
       "      <td>6</td>\n",
       "      <td>8</td>\n",
       "      <td>10</td>\n",
       "      <td>10</td>\n",
       "    </tr>\n",
       "  </tbody>\n",
       "</table>\n",
       "</div>"
      ],
      "text/plain": [
       "   Q1_General background in data analysis?  \\\n",
       "0                                        7   \n",
       "1                                        7   \n",
       "2                                        6   \n",
       "3                                        8   \n",
       "4                                        3   \n",
       "\n",
       "   Q2_Hands-on experience in data analysis using Python?  \\\n",
       "0                                                  8       \n",
       "1                                                  6       \n",
       "2                                                  6       \n",
       "3                                                  7       \n",
       "4                                                  3       \n",
       "\n",
       "   Q3_Experience in programming in general?\\t  \\\n",
       "0                                           7   \n",
       "1                                           7   \n",
       "2                                           7   \n",
       "3                                           8   \n",
       "4                                           3   \n",
       "\n",
       "   Q4_General background in machine learning?\\t  \\\n",
       "0                                             3   \n",
       "1                                             5   \n",
       "2                                             6   \n",
       "3                                             6   \n",
       "4                                             3   \n",
       "\n",
       "   Q5_Hands-on experience in running machine learning applications?\\t  \\\n",
       "0                                                  2                    \n",
       "1                                                  5                    \n",
       "2                                                  4                    \n",
       "3                                                  3                    \n",
       "4                                                  3                    \n",
       "\n",
       "  Q6_Which one would you prefer on a Sunday afternoon?\\t  \\\n",
       "0                                   Watching a movie       \n",
       "1                                            Reading       \n",
       "2                                   Watching a movie       \n",
       "3   Coding for the homework, project or just for fun       \n",
       "4                                            Reading       \n",
       "\n",
       "   Q7_Hands-on experience in image analysis using satellite images?\\t  \\\n",
       "0                                                  7                    \n",
       "1                                                  4                    \n",
       "2                                                  2                    \n",
       "3                                                  4                    \n",
       "4                                                  3                    \n",
       "\n",
       "   Q8_Level of interest in mathematics?\\t  Q9_Level of interest in reading?\\t  \\\n",
       "0                                       7                                   7   \n",
       "1                                       6                                   8   \n",
       "2                                       3                                   3   \n",
       "3                                       6                                   9   \n",
       "4                                       6                                   8   \n",
       "\n",
       "   Q10_Level of stress about this class?\\t  \\\n",
       "0                                        7   \n",
       "1                                        6   \n",
       "2                                        7   \n",
       "3                                        5   \n",
       "4                                       10   \n",
       "\n",
       "   Q11_Your overall motivation about this class?  \n",
       "0                                              9  \n",
       "1                                              8  \n",
       "2                                              5  \n",
       "3                                              9  \n",
       "4                                             10  "
      ]
     },
     "execution_count": 110,
     "metadata": {},
     "output_type": "execute_result"
    }
   ],
   "source": [
    "df22 = df22[df22.columns[1:]]\n",
    "df22.head()"
   ]
  },
  {
   "cell_type": "markdown",
   "metadata": {},
   "source": [
    "### Column names"
   ]
  },
  {
   "cell_type": "code",
   "execution_count": 111,
   "metadata": {},
   "outputs": [
    {
     "data": {
      "text/plain": [
       "{'Q1': 'Q1_General background in data analysis?',\n",
       " 'Q2': 'Q2_Hands-on experience in data analysis using Python?',\n",
       " 'Q3': 'Q3_Experience in programming in general?',\n",
       " 'Q4': 'Q4_General background in machine learning?',\n",
       " 'Q5': 'Q5_Hands-on experience in running machine learning applications?',\n",
       " 'Q6': 'Q6_Which one would you prefer on a Sunday afternoon?',\n",
       " 'Q7': 'Q7_Hands-on experience in image analysis using satellite images?',\n",
       " 'Q8': 'Q8_Level of interest in mathematics?',\n",
       " 'Q9': 'Q9_Level of interest in reading?',\n",
       " 'Q10': 'Q10_Level of stress about this class?',\n",
       " 'Q11': 'Q11_Your overall motivation about this class?'}"
      ]
     },
     "execution_count": 111,
     "metadata": {},
     "output_type": "execute_result"
    }
   ],
   "source": [
    "colNames = df20.columns.tolist()\n",
    "colNames = {col.split('_', 1)[0]:col for col in colNames}\n",
    "colNames"
   ]
  },
  {
   "cell_type": "code",
   "execution_count": 112,
   "metadata": {},
   "outputs": [
    {
     "data": {
      "text/html": [
       "<div>\n",
       "<style scoped>\n",
       "    .dataframe tbody tr th:only-of-type {\n",
       "        vertical-align: middle;\n",
       "    }\n",
       "\n",
       "    .dataframe tbody tr th {\n",
       "        vertical-align: top;\n",
       "    }\n",
       "\n",
       "    .dataframe thead th {\n",
       "        text-align: right;\n",
       "    }\n",
       "</style>\n",
       "<table border=\"1\" class=\"dataframe\">\n",
       "  <thead>\n",
       "    <tr style=\"text-align: right;\">\n",
       "      <th></th>\n",
       "      <th>Q1</th>\n",
       "      <th>Q2</th>\n",
       "      <th>Q3</th>\n",
       "      <th>Q4</th>\n",
       "      <th>Q5</th>\n",
       "      <th>Q6</th>\n",
       "      <th>Q7</th>\n",
       "      <th>Q8</th>\n",
       "      <th>Q9</th>\n",
       "      <th>Q10</th>\n",
       "      <th>Q11</th>\n",
       "    </tr>\n",
       "  </thead>\n",
       "  <tbody>\n",
       "    <tr>\n",
       "      <th>0</th>\n",
       "      <td>8</td>\n",
       "      <td>5</td>\n",
       "      <td>4</td>\n",
       "      <td>6</td>\n",
       "      <td>7</td>\n",
       "      <td>Running</td>\n",
       "      <td>5</td>\n",
       "      <td>3</td>\n",
       "      <td>5</td>\n",
       "      <td>7</td>\n",
       "      <td>3</td>\n",
       "    </tr>\n",
       "    <tr>\n",
       "      <th>1</th>\n",
       "      <td>8</td>\n",
       "      <td>8</td>\n",
       "      <td>5</td>\n",
       "      <td>5</td>\n",
       "      <td>6</td>\n",
       "      <td>Reading</td>\n",
       "      <td>7</td>\n",
       "      <td>7</td>\n",
       "      <td>6</td>\n",
       "      <td>7</td>\n",
       "      <td>8</td>\n",
       "    </tr>\n",
       "    <tr>\n",
       "      <th>2</th>\n",
       "      <td>6</td>\n",
       "      <td>6</td>\n",
       "      <td>6</td>\n",
       "      <td>6</td>\n",
       "      <td>5</td>\n",
       "      <td>Watching a movie</td>\n",
       "      <td>7</td>\n",
       "      <td>7</td>\n",
       "      <td>7</td>\n",
       "      <td>7</td>\n",
       "      <td>7</td>\n",
       "    </tr>\n",
       "    <tr>\n",
       "      <th>3</th>\n",
       "      <td>5</td>\n",
       "      <td>3</td>\n",
       "      <td>6</td>\n",
       "      <td>4</td>\n",
       "      <td>4</td>\n",
       "      <td>Watching a movie</td>\n",
       "      <td>3</td>\n",
       "      <td>8</td>\n",
       "      <td>8</td>\n",
       "      <td>5</td>\n",
       "      <td>10</td>\n",
       "    </tr>\n",
       "    <tr>\n",
       "      <th>4</th>\n",
       "      <td>6</td>\n",
       "      <td>6</td>\n",
       "      <td>5</td>\n",
       "      <td>4</td>\n",
       "      <td>3</td>\n",
       "      <td>Reading</td>\n",
       "      <td>4</td>\n",
       "      <td>5</td>\n",
       "      <td>4</td>\n",
       "      <td>10</td>\n",
       "      <td>8</td>\n",
       "    </tr>\n",
       "  </tbody>\n",
       "</table>\n",
       "</div>"
      ],
      "text/plain": [
       "   Q1  Q2  Q3  Q4  Q5                Q6  Q7  Q8  Q9  Q10  Q11\n",
       "0   8   5   4   6   7           Running   5   3   5    7    3\n",
       "1   8   8   5   5   6           Reading   7   7   6    7    8\n",
       "2   6   6   6   6   5  Watching a movie   7   7   7    7    7\n",
       "3   5   3   6   4   4  Watching a movie   3   8   8    5   10\n",
       "4   6   6   5   4   3           Reading   4   5   4   10    8"
      ]
     },
     "execution_count": 112,
     "metadata": {},
     "output_type": "execute_result"
    }
   ],
   "source": [
    "df20.columns = df20.columns.str.split('_', 1).str[0].tolist()\n",
    "df22.columns = df22.columns.str.split('_', 1).str[0].tolist()\n",
    "\n",
    "df20.head()"
   ]
  },
  {
   "cell_type": "code",
   "execution_count": 113,
   "metadata": {},
   "outputs": [
    {
     "data": {
      "text/html": [
       "<div>\n",
       "<style scoped>\n",
       "    .dataframe tbody tr th:only-of-type {\n",
       "        vertical-align: middle;\n",
       "    }\n",
       "\n",
       "    .dataframe tbody tr th {\n",
       "        vertical-align: top;\n",
       "    }\n",
       "\n",
       "    .dataframe thead th {\n",
       "        text-align: right;\n",
       "    }\n",
       "</style>\n",
       "<table border=\"1\" class=\"dataframe\">\n",
       "  <thead>\n",
       "    <tr style=\"text-align: right;\">\n",
       "      <th></th>\n",
       "      <th>Q1</th>\n",
       "      <th>Q2</th>\n",
       "      <th>Q3</th>\n",
       "      <th>Q4</th>\n",
       "      <th>Q5</th>\n",
       "      <th>Q6</th>\n",
       "      <th>Q7</th>\n",
       "      <th>Q8</th>\n",
       "      <th>Q9</th>\n",
       "      <th>Q10</th>\n",
       "      <th>Q11</th>\n",
       "    </tr>\n",
       "  </thead>\n",
       "  <tbody>\n",
       "    <tr>\n",
       "      <th>0</th>\n",
       "      <td>7</td>\n",
       "      <td>8</td>\n",
       "      <td>7</td>\n",
       "      <td>3</td>\n",
       "      <td>2</td>\n",
       "      <td>Watching a movie</td>\n",
       "      <td>7</td>\n",
       "      <td>7</td>\n",
       "      <td>7</td>\n",
       "      <td>7</td>\n",
       "      <td>9</td>\n",
       "    </tr>\n",
       "    <tr>\n",
       "      <th>1</th>\n",
       "      <td>7</td>\n",
       "      <td>6</td>\n",
       "      <td>7</td>\n",
       "      <td>5</td>\n",
       "      <td>5</td>\n",
       "      <td>Reading</td>\n",
       "      <td>4</td>\n",
       "      <td>6</td>\n",
       "      <td>8</td>\n",
       "      <td>6</td>\n",
       "      <td>8</td>\n",
       "    </tr>\n",
       "    <tr>\n",
       "      <th>2</th>\n",
       "      <td>6</td>\n",
       "      <td>6</td>\n",
       "      <td>7</td>\n",
       "      <td>6</td>\n",
       "      <td>4</td>\n",
       "      <td>Watching a movie</td>\n",
       "      <td>2</td>\n",
       "      <td>3</td>\n",
       "      <td>3</td>\n",
       "      <td>7</td>\n",
       "      <td>5</td>\n",
       "    </tr>\n",
       "    <tr>\n",
       "      <th>3</th>\n",
       "      <td>8</td>\n",
       "      <td>7</td>\n",
       "      <td>8</td>\n",
       "      <td>6</td>\n",
       "      <td>3</td>\n",
       "      <td>Coding for the homework, project or just for fun</td>\n",
       "      <td>4</td>\n",
       "      <td>6</td>\n",
       "      <td>9</td>\n",
       "      <td>5</td>\n",
       "      <td>9</td>\n",
       "    </tr>\n",
       "    <tr>\n",
       "      <th>4</th>\n",
       "      <td>3</td>\n",
       "      <td>3</td>\n",
       "      <td>3</td>\n",
       "      <td>3</td>\n",
       "      <td>3</td>\n",
       "      <td>Reading</td>\n",
       "      <td>3</td>\n",
       "      <td>6</td>\n",
       "      <td>8</td>\n",
       "      <td>10</td>\n",
       "      <td>10</td>\n",
       "    </tr>\n",
       "  </tbody>\n",
       "</table>\n",
       "</div>"
      ],
      "text/plain": [
       "   Q1  Q2  Q3  Q4  Q5                                                Q6  Q7  \\\n",
       "0   7   8   7   3   2                                  Watching a movie   7   \n",
       "1   7   6   7   5   5                                           Reading   4   \n",
       "2   6   6   7   6   4                                  Watching a movie   2   \n",
       "3   8   7   8   6   3  Coding for the homework, project or just for fun   4   \n",
       "4   3   3   3   3   3                                           Reading   3   \n",
       "\n",
       "   Q8  Q9  Q10  Q11  \n",
       "0   7   7    7    9  \n",
       "1   6   8    6    8  \n",
       "2   3   3    7    5  \n",
       "3   6   9    5    9  \n",
       "4   6   8   10   10  "
      ]
     },
     "execution_count": 113,
     "metadata": {},
     "output_type": "execute_result"
    }
   ],
   "source": [
    "df22.head()"
   ]
  },
  {
   "cell_type": "markdown",
   "metadata": {},
   "source": [
    "### Visualize correlations"
   ]
  },
  {
   "cell_type": "code",
   "execution_count": 114,
   "metadata": {},
   "outputs": [
    {
     "name": "stdout",
     "output_type": "stream",
     "text": [
      "{'Q1': 'Q1_General background in data analysis?', 'Q2': 'Q2_Hands-on experience in data analysis using Python?', 'Q3': 'Q3_Experience in programming in general?', 'Q4': 'Q4_General background in machine learning?', 'Q5': 'Q5_Hands-on experience in running machine learning applications?', 'Q6': 'Q6_Which one would you prefer on a Sunday afternoon?', 'Q7': 'Q7_Hands-on experience in image analysis using satellite images?', 'Q8': 'Q8_Level of interest in mathematics?', 'Q9': 'Q9_Level of interest in reading?', 'Q10': 'Q10_Level of stress about this class?', 'Q11': 'Q11_Your overall motivation about this class?'}\n"
     ]
    },
    {
     "data": {
      "text/html": [
       "<div>\n",
       "<style scoped>\n",
       "    .dataframe tbody tr th:only-of-type {\n",
       "        vertical-align: middle;\n",
       "    }\n",
       "\n",
       "    .dataframe tbody tr th {\n",
       "        vertical-align: top;\n",
       "    }\n",
       "\n",
       "    .dataframe thead th {\n",
       "        text-align: right;\n",
       "    }\n",
       "</style>\n",
       "<table border=\"1\" class=\"dataframe\">\n",
       "  <thead>\n",
       "    <tr style=\"text-align: right;\">\n",
       "      <th></th>\n",
       "      <th>Q1</th>\n",
       "      <th>Q2</th>\n",
       "      <th>Q3</th>\n",
       "      <th>Q4</th>\n",
       "      <th>Q5</th>\n",
       "      <th>Q7</th>\n",
       "      <th>Q8</th>\n",
       "      <th>Q9</th>\n",
       "      <th>Q10</th>\n",
       "      <th>Q11</th>\n",
       "    </tr>\n",
       "  </thead>\n",
       "  <tbody>\n",
       "    <tr>\n",
       "      <th>Q1</th>\n",
       "      <td>1.000000</td>\n",
       "      <td>0.766725</td>\n",
       "      <td>0.713877</td>\n",
       "      <td>0.624063</td>\n",
       "      <td>0.738857</td>\n",
       "      <td>0.676150</td>\n",
       "      <td>0.405270</td>\n",
       "      <td>-0.244388</td>\n",
       "      <td>-0.441883</td>\n",
       "      <td>0.042206</td>\n",
       "    </tr>\n",
       "    <tr>\n",
       "      <th>Q2</th>\n",
       "      <td>0.766725</td>\n",
       "      <td>1.000000</td>\n",
       "      <td>0.639008</td>\n",
       "      <td>0.481836</td>\n",
       "      <td>0.568244</td>\n",
       "      <td>0.692275</td>\n",
       "      <td>0.399874</td>\n",
       "      <td>-0.321784</td>\n",
       "      <td>-0.329991</td>\n",
       "      <td>0.099348</td>\n",
       "    </tr>\n",
       "    <tr>\n",
       "      <th>Q3</th>\n",
       "      <td>0.713877</td>\n",
       "      <td>0.639008</td>\n",
       "      <td>1.000000</td>\n",
       "      <td>0.564825</td>\n",
       "      <td>0.544057</td>\n",
       "      <td>0.616467</td>\n",
       "      <td>0.596732</td>\n",
       "      <td>-0.083087</td>\n",
       "      <td>-0.631657</td>\n",
       "      <td>0.400580</td>\n",
       "    </tr>\n",
       "    <tr>\n",
       "      <th>Q4</th>\n",
       "      <td>0.624063</td>\n",
       "      <td>0.481836</td>\n",
       "      <td>0.564825</td>\n",
       "      <td>1.000000</td>\n",
       "      <td>0.945541</td>\n",
       "      <td>0.450752</td>\n",
       "      <td>0.426714</td>\n",
       "      <td>-0.461877</td>\n",
       "      <td>-0.168868</td>\n",
       "      <td>0.036739</td>\n",
       "    </tr>\n",
       "    <tr>\n",
       "      <th>Q5</th>\n",
       "      <td>0.738857</td>\n",
       "      <td>0.568244</td>\n",
       "      <td>0.544057</td>\n",
       "      <td>0.945541</td>\n",
       "      <td>1.000000</td>\n",
       "      <td>0.444940</td>\n",
       "      <td>0.467669</td>\n",
       "      <td>-0.463201</td>\n",
       "      <td>-0.263556</td>\n",
       "      <td>-0.023930</td>\n",
       "    </tr>\n",
       "    <tr>\n",
       "      <th>Q7</th>\n",
       "      <td>0.676150</td>\n",
       "      <td>0.692275</td>\n",
       "      <td>0.616467</td>\n",
       "      <td>0.450752</td>\n",
       "      <td>0.444940</td>\n",
       "      <td>1.000000</td>\n",
       "      <td>0.184545</td>\n",
       "      <td>-0.198770</td>\n",
       "      <td>-0.284418</td>\n",
       "      <td>0.045276</td>\n",
       "    </tr>\n",
       "    <tr>\n",
       "      <th>Q8</th>\n",
       "      <td>0.405270</td>\n",
       "      <td>0.399874</td>\n",
       "      <td>0.596732</td>\n",
       "      <td>0.426714</td>\n",
       "      <td>0.467669</td>\n",
       "      <td>0.184545</td>\n",
       "      <td>1.000000</td>\n",
       "      <td>-0.126656</td>\n",
       "      <td>-0.205698</td>\n",
       "      <td>0.501068</td>\n",
       "    </tr>\n",
       "    <tr>\n",
       "      <th>Q9</th>\n",
       "      <td>-0.244388</td>\n",
       "      <td>-0.321784</td>\n",
       "      <td>-0.083087</td>\n",
       "      <td>-0.461877</td>\n",
       "      <td>-0.463201</td>\n",
       "      <td>-0.198770</td>\n",
       "      <td>-0.126656</td>\n",
       "      <td>1.000000</td>\n",
       "      <td>-0.217410</td>\n",
       "      <td>0.228420</td>\n",
       "    </tr>\n",
       "    <tr>\n",
       "      <th>Q10</th>\n",
       "      <td>-0.441883</td>\n",
       "      <td>-0.329991</td>\n",
       "      <td>-0.631657</td>\n",
       "      <td>-0.168868</td>\n",
       "      <td>-0.263556</td>\n",
       "      <td>-0.284418</td>\n",
       "      <td>-0.205698</td>\n",
       "      <td>-0.217410</td>\n",
       "      <td>1.000000</td>\n",
       "      <td>-0.133846</td>\n",
       "    </tr>\n",
       "    <tr>\n",
       "      <th>Q11</th>\n",
       "      <td>0.042206</td>\n",
       "      <td>0.099348</td>\n",
       "      <td>0.400580</td>\n",
       "      <td>0.036739</td>\n",
       "      <td>-0.023930</td>\n",
       "      <td>0.045276</td>\n",
       "      <td>0.501068</td>\n",
       "      <td>0.228420</td>\n",
       "      <td>-0.133846</td>\n",
       "      <td>1.000000</td>\n",
       "    </tr>\n",
       "  </tbody>\n",
       "</table>\n",
       "</div>"
      ],
      "text/plain": [
       "           Q1        Q2        Q3        Q4        Q5        Q7        Q8  \\\n",
       "Q1   1.000000  0.766725  0.713877  0.624063  0.738857  0.676150  0.405270   \n",
       "Q2   0.766725  1.000000  0.639008  0.481836  0.568244  0.692275  0.399874   \n",
       "Q3   0.713877  0.639008  1.000000  0.564825  0.544057  0.616467  0.596732   \n",
       "Q4   0.624063  0.481836  0.564825  1.000000  0.945541  0.450752  0.426714   \n",
       "Q5   0.738857  0.568244  0.544057  0.945541  1.000000  0.444940  0.467669   \n",
       "Q7   0.676150  0.692275  0.616467  0.450752  0.444940  1.000000  0.184545   \n",
       "Q8   0.405270  0.399874  0.596732  0.426714  0.467669  0.184545  1.000000   \n",
       "Q9  -0.244388 -0.321784 -0.083087 -0.461877 -0.463201 -0.198770 -0.126656   \n",
       "Q10 -0.441883 -0.329991 -0.631657 -0.168868 -0.263556 -0.284418 -0.205698   \n",
       "Q11  0.042206  0.099348  0.400580  0.036739 -0.023930  0.045276  0.501068   \n",
       "\n",
       "           Q9       Q10       Q11  \n",
       "Q1  -0.244388 -0.441883  0.042206  \n",
       "Q2  -0.321784 -0.329991  0.099348  \n",
       "Q3  -0.083087 -0.631657  0.400580  \n",
       "Q4  -0.461877 -0.168868  0.036739  \n",
       "Q5  -0.463201 -0.263556 -0.023930  \n",
       "Q7  -0.198770 -0.284418  0.045276  \n",
       "Q8  -0.126656 -0.205698  0.501068  \n",
       "Q9   1.000000 -0.217410  0.228420  \n",
       "Q10 -0.217410  1.000000 -0.133846  \n",
       "Q11  0.228420 -0.133846  1.000000  "
      ]
     },
     "execution_count": 114,
     "metadata": {},
     "output_type": "execute_result"
    }
   ],
   "source": [
    "print(colNames)\n",
    "df20.corr()"
   ]
  },
  {
   "cell_type": "code",
   "execution_count": 115,
   "metadata": {},
   "outputs": [],
   "source": [
    "corr20 = df20.corr()\n",
    "corr22 = df22.corr()\n"
   ]
  },
  {
   "cell_type": "code",
   "execution_count": 116,
   "metadata": {},
   "outputs": [
    {
     "data": {
      "text/plain": [
       "array([[-0.63165709, -0.63165709, -0.46320057, -0.46320057, -0.46187689,\n",
       "        -0.46187689, -0.44188318, -0.44188318, -0.32999054, -0.32999054,\n",
       "        -0.32178413, -0.32178413, -0.28441824, -0.28441824, -0.26355644,\n",
       "        -0.26355644, -0.24438773, -0.24438773, -0.21740963, -0.21740963,\n",
       "        -0.20569796, -0.20569796, -0.1987703 , -0.1987703 , -0.16886828,\n",
       "        -0.16886828, -0.13384644, -0.13384644, -0.1266564 , -0.1266564 ,\n",
       "        -0.08308722, -0.08308722, -0.02392998, -0.02392998,  0.03673859,\n",
       "         0.03673859,  0.04220564,  0.04220564,  0.04527612,  0.04527612,\n",
       "         0.09934755,  0.09934755,  0.18454499,  0.18454499,  0.22842018,\n",
       "         0.22842018,  0.39987449,  0.39987449,  0.40057966,  0.40057966,\n",
       "         0.40527046,  0.40527046,  0.42671372,  0.42671372,  0.44493955,\n",
       "         0.44493955,  0.45075183,  0.45075183,  0.46766922,  0.46766922,\n",
       "         0.48183617,  0.48183617,  0.50106752,  0.50106752,  0.54405737,\n",
       "         0.54405737,  0.5648253 ,  0.5648253 ,  0.56824352,  0.56824352,\n",
       "         0.59673189,  0.59673189,  0.6164671 ,  0.6164671 ,  0.62406254,\n",
       "         0.62406254,  0.6390085 ,  0.6390085 ,  0.67614989,  0.67614989,\n",
       "         0.69227464,  0.69227464,  0.7138767 ,  0.7138767 ,  0.73885658,\n",
       "         0.73885658,  0.7667249 ,  0.7667249 ,  0.94554051,  0.94554051]])"
      ]
     },
     "execution_count": 116,
     "metadata": {},
     "output_type": "execute_result"
    }
   ],
   "source": [
    "arr20 = corr20.to_numpy()\n",
    "arr20 = arr20[~np.eye(arr20.shape[0],dtype=bool)].reshape(arr20.shape[0],-1)\n",
    "arr20 = arr20.reshape(1,arr20.shape[0]*arr20.shape[1])\n",
    "arr20.sort()\n",
    "arr20"
   ]
  },
  {
   "cell_type": "code",
   "execution_count": 117,
   "metadata": {},
   "outputs": [
    {
     "data": {
      "text/plain": [
       "<AxesSubplot:>"
      ]
     },
     "execution_count": 117,
     "metadata": {},
     "output_type": "execute_result"
    },
    {
     "data": {
      "image/png": "[encoded data removed]",
      "text/plain": [
       "<Figure size 1080x360 with 4 Axes>"
      ]
     },
     "metadata": {
      "needs_background": "light"
     },
     "output_type": "display_data"
    }
   ],
   "source": [
    "\n",
    "fig, (ax1, ax2) = plt.subplots(1,2, figsize=[15,5])\n",
    "sns.heatmap(corr20, xticklabels=corr20.columns, yticklabels=corr20.columns, ax=ax1)\n",
    "sns.heatmap(corr22, xticklabels=corr22.columns, yticklabels=corr22.columns, ax=ax2)"
   ]
  },
  {
   "cell_type": "code",
   "execution_count": 118,
   "metadata": {},
   "outputs": [
    {
     "data": {
      "text/plain": [
       "{'Q1': 'Q1_General background in data analysis?',\n",
       " 'Q2': 'Q2_Hands-on experience in data analysis using Python?',\n",
       " 'Q3': 'Q3_Experience in programming in general?',\n",
       " 'Q4': 'Q4_General background in machine learning?',\n",
       " 'Q5': 'Q5_Hands-on experience in running machine learning applications?',\n",
       " 'Q6': 'Q6_Which one would you prefer on a Sunday afternoon?',\n",
       " 'Q7': 'Q7_Hands-on experience in image analysis using satellite images?',\n",
       " 'Q8': 'Q8_Level of interest in mathematics?',\n",
       " 'Q9': 'Q9_Level of interest in reading?',\n",
       " 'Q10': 'Q10_Level of stress about this class?',\n",
       " 'Q11': 'Q11_Your overall motivation about this class?'}"
      ]
     },
     "execution_count": 118,
     "metadata": {},
     "output_type": "execute_result"
    }
   ],
   "source": [
    "colNames"
   ]
  },
  {
   "cell_type": "markdown",
   "metadata": {},
   "source": [
    "### Visualizing categorical variables"
   ]
  },
  {
   "cell_type": "code",
   "execution_count": 119,
   "metadata": {},
   "outputs": [
    {
     "data": {
      "image/png": "[encoded data removed]",
      "text/plain": [
       "<Figure size 360x360 with 1 Axes>"
      ]
     },
     "metadata": {
      "needs_background": "light"
     },
     "output_type": "display_data"
    }
   ],
   "source": [
    "sns.catplot(x=\"Q6\", y=\"Q11\", data=df20);"
   ]
  },
  {
   "cell_type": "code",
   "execution_count": 120,
   "metadata": {},
   "outputs": [
    {
     "data": {
      "image/png": "[encoded data removed]",
      "text/plain": [
       "<Figure size 360x360 with 1 Axes>"
      ]
     },
     "metadata": {
      "needs_background": "light"
     },
     "output_type": "display_data"
    }
   ],
   "source": [
    "sns.catplot(x=\"Q6\", y=\"Q11\", data=df22);\n",
    "plt.xticks(rotation=45);"
   ]
  },
  {
   "cell_type": "markdown",
   "metadata": {},
   "source": [
    "### Handling categorical variables (Data analysis)"
   ]
  },
  {
   "cell_type": "code",
   "execution_count": 121,
   "metadata": {},
   "outputs": [],
   "source": [
    "df20 = pd.get_dummies(df20, columns=['Q6'])"
   ]
  },
  {
   "cell_type": "code",
   "execution_count": 122,
   "metadata": {},
   "outputs": [
    {
     "data": {
      "text/html": [
       "<div>\n",
       "<style scoped>\n",
       "    .dataframe tbody tr th:only-of-type {\n",
       "        vertical-align: middle;\n",
       "    }\n",
       "\n",
       "    .dataframe tbody tr th {\n",
       "        vertical-align: top;\n",
       "    }\n",
       "\n",
       "    .dataframe thead th {\n",
       "        text-align: right;\n",
       "    }\n",
       "</style>\n",
       "<table border=\"1\" class=\"dataframe\">\n",
       "  <thead>\n",
       "    <tr style=\"text-align: right;\">\n",
       "      <th></th>\n",
       "      <th>Q1</th>\n",
       "      <th>Q2</th>\n",
       "      <th>Q3</th>\n",
       "      <th>Q4</th>\n",
       "      <th>Q5</th>\n",
       "      <th>Q7</th>\n",
       "      <th>Q8</th>\n",
       "      <th>Q9</th>\n",
       "      <th>Q10</th>\n",
       "      <th>Q11</th>\n",
       "      <th>Q6_Reading</th>\n",
       "      <th>Q6_Running</th>\n",
       "      <th>Q6_Watching a movie</th>\n",
       "    </tr>\n",
       "  </thead>\n",
       "  <tbody>\n",
       "    <tr>\n",
       "      <th>0</th>\n",
       "      <td>8</td>\n",
       "      <td>5</td>\n",
       "      <td>4</td>\n",
       "      <td>6</td>\n",
       "      <td>7</td>\n",
       "      <td>5</td>\n",
       "      <td>3</td>\n",
       "      <td>5</td>\n",
       "      <td>7</td>\n",
       "      <td>3</td>\n",
       "      <td>0</td>\n",
       "      <td>1</td>\n",
       "      <td>0</td>\n",
       "    </tr>\n",
       "    <tr>\n",
       "      <th>1</th>\n",
       "      <td>8</td>\n",
       "      <td>8</td>\n",
       "      <td>5</td>\n",
       "      <td>5</td>\n",
       "      <td>6</td>\n",
       "      <td>7</td>\n",
       "      <td>7</td>\n",
       "      <td>6</td>\n",
       "      <td>7</td>\n",
       "      <td>8</td>\n",
       "      <td>1</td>\n",
       "      <td>0</td>\n",
       "      <td>0</td>\n",
       "    </tr>\n",
       "    <tr>\n",
       "      <th>2</th>\n",
       "      <td>6</td>\n",
       "      <td>6</td>\n",
       "      <td>6</td>\n",
       "      <td>6</td>\n",
       "      <td>5</td>\n",
       "      <td>7</td>\n",
       "      <td>7</td>\n",
       "      <td>7</td>\n",
       "      <td>7</td>\n",
       "      <td>7</td>\n",
       "      <td>0</td>\n",
       "      <td>0</td>\n",
       "      <td>1</td>\n",
       "    </tr>\n",
       "    <tr>\n",
       "      <th>3</th>\n",
       "      <td>5</td>\n",
       "      <td>3</td>\n",
       "      <td>6</td>\n",
       "      <td>4</td>\n",
       "      <td>4</td>\n",
       "      <td>3</td>\n",
       "      <td>8</td>\n",
       "      <td>8</td>\n",
       "      <td>5</td>\n",
       "      <td>10</td>\n",
       "      <td>0</td>\n",
       "      <td>0</td>\n",
       "      <td>1</td>\n",
       "    </tr>\n",
       "    <tr>\n",
       "      <th>4</th>\n",
       "      <td>6</td>\n",
       "      <td>6</td>\n",
       "      <td>5</td>\n",
       "      <td>4</td>\n",
       "      <td>3</td>\n",
       "      <td>4</td>\n",
       "      <td>5</td>\n",
       "      <td>4</td>\n",
       "      <td>10</td>\n",
       "      <td>8</td>\n",
       "      <td>1</td>\n",
       "      <td>0</td>\n",
       "      <td>0</td>\n",
       "    </tr>\n",
       "  </tbody>\n",
       "</table>\n",
       "</div>"
      ],
      "text/plain": [
       "   Q1  Q2  Q3  Q4  Q5  Q7  Q8  Q9  Q10  Q11  Q6_Reading  Q6_Running  \\\n",
       "0   8   5   4   6   7   5   3   5    7    3           0           1   \n",
       "1   8   8   5   5   6   7   7   6    7    8           1           0   \n",
       "2   6   6   6   6   5   7   7   7    7    7           0           0   \n",
       "3   5   3   6   4   4   3   8   8    5   10           0           0   \n",
       "4   6   6   5   4   3   4   5   4   10    8           1           0   \n",
       "\n",
       "   Q6_Watching a movie  \n",
       "0                    0  \n",
       "1                    0  \n",
       "2                    1  \n",
       "3                    1  \n",
       "4                    0  "
      ]
     },
     "execution_count": 122,
     "metadata": {},
     "output_type": "execute_result"
    }
   ],
   "source": [
    "df20.head()"
   ]
  },
  {
   "cell_type": "code",
   "execution_count": 123,
   "metadata": {},
   "outputs": [],
   "source": [
    "df22 = pd.get_dummies(df22, columns=['Q6'])"
   ]
  },
  {
   "cell_type": "code",
   "execution_count": 124,
   "metadata": {},
   "outputs": [],
   "source": [
    "df22 = df22[[\n",
    "    col for col in list(df22) if 'homework' not in col\n",
    "]]"
   ]
  },
  {
   "cell_type": "code",
   "execution_count": 125,
   "metadata": {},
   "outputs": [
    {
     "data": {
      "text/html": [
       "<div>\n",
       "<style scoped>\n",
       "    .dataframe tbody tr th:only-of-type {\n",
       "        vertical-align: middle;\n",
       "    }\n",
       "\n",
       "    .dataframe tbody tr th {\n",
       "        vertical-align: top;\n",
       "    }\n",
       "\n",
       "    .dataframe thead th {\n",
       "        text-align: right;\n",
       "    }\n",
       "</style>\n",
       "<table border=\"1\" class=\"dataframe\">\n",
       "  <thead>\n",
       "    <tr style=\"text-align: right;\">\n",
       "      <th></th>\n",
       "      <th>Q1</th>\n",
       "      <th>Q2</th>\n",
       "      <th>Q3</th>\n",
       "      <th>Q4</th>\n",
       "      <th>Q5</th>\n",
       "      <th>Q7</th>\n",
       "      <th>Q8</th>\n",
       "      <th>Q9</th>\n",
       "      <th>Q10</th>\n",
       "      <th>Q11</th>\n",
       "      <th>Q6_Reading</th>\n",
       "      <th>Q6_Running</th>\n",
       "      <th>Q6_Watching a movie</th>\n",
       "    </tr>\n",
       "  </thead>\n",
       "  <tbody>\n",
       "    <tr>\n",
       "      <th>0</th>\n",
       "      <td>7</td>\n",
       "      <td>8</td>\n",
       "      <td>7</td>\n",
       "      <td>3</td>\n",
       "      <td>2</td>\n",
       "      <td>7</td>\n",
       "      <td>7</td>\n",
       "      <td>7</td>\n",
       "      <td>7</td>\n",
       "      <td>9</td>\n",
       "      <td>0</td>\n",
       "      <td>0</td>\n",
       "      <td>1</td>\n",
       "    </tr>\n",
       "    <tr>\n",
       "      <th>1</th>\n",
       "      <td>7</td>\n",
       "      <td>6</td>\n",
       "      <td>7</td>\n",
       "      <td>5</td>\n",
       "      <td>5</td>\n",
       "      <td>4</td>\n",
       "      <td>6</td>\n",
       "      <td>8</td>\n",
       "      <td>6</td>\n",
       "      <td>8</td>\n",
       "      <td>1</td>\n",
       "      <td>0</td>\n",
       "      <td>0</td>\n",
       "    </tr>\n",
       "    <tr>\n",
       "      <th>2</th>\n",
       "      <td>6</td>\n",
       "      <td>6</td>\n",
       "      <td>7</td>\n",
       "      <td>6</td>\n",
       "      <td>4</td>\n",
       "      <td>2</td>\n",
       "      <td>3</td>\n",
       "      <td>3</td>\n",
       "      <td>7</td>\n",
       "      <td>5</td>\n",
       "      <td>0</td>\n",
       "      <td>0</td>\n",
       "      <td>1</td>\n",
       "    </tr>\n",
       "    <tr>\n",
       "      <th>3</th>\n",
       "      <td>8</td>\n",
       "      <td>7</td>\n",
       "      <td>8</td>\n",
       "      <td>6</td>\n",
       "      <td>3</td>\n",
       "      <td>4</td>\n",
       "      <td>6</td>\n",
       "      <td>9</td>\n",
       "      <td>5</td>\n",
       "      <td>9</td>\n",
       "      <td>0</td>\n",
       "      <td>0</td>\n",
       "      <td>0</td>\n",
       "    </tr>\n",
       "    <tr>\n",
       "      <th>4</th>\n",
       "      <td>3</td>\n",
       "      <td>3</td>\n",
       "      <td>3</td>\n",
       "      <td>3</td>\n",
       "      <td>3</td>\n",
       "      <td>3</td>\n",
       "      <td>6</td>\n",
       "      <td>8</td>\n",
       "      <td>10</td>\n",
       "      <td>10</td>\n",
       "      <td>1</td>\n",
       "      <td>0</td>\n",
       "      <td>0</td>\n",
       "    </tr>\n",
       "  </tbody>\n",
       "</table>\n",
       "</div>"
      ],
      "text/plain": [
       "   Q1  Q2  Q3  Q4  Q5  Q7  Q8  Q9  Q10  Q11  Q6_Reading  Q6_Running  \\\n",
       "0   7   8   7   3   2   7   7   7    7    9           0           0   \n",
       "1   7   6   7   5   5   4   6   8    6    8           1           0   \n",
       "2   6   6   7   6   4   2   3   3    7    5           0           0   \n",
       "3   8   7   8   6   3   4   6   9    5    9           0           0   \n",
       "4   3   3   3   3   3   3   6   8   10   10           1           0   \n",
       "\n",
       "   Q6_Watching a movie  \n",
       "0                    1  \n",
       "1                    0  \n",
       "2                    1  \n",
       "3                    0  \n",
       "4                    0  "
      ]
     },
     "execution_count": 125,
     "metadata": {},
     "output_type": "execute_result"
    }
   ],
   "source": [
    "df22.head()"
   ]
  },
  {
   "cell_type": "markdown",
   "metadata": {},
   "source": [
    "## Predictive models\n",
    "\n",
    "#### Can we predict motivation?\n"
   ]
  },
  {
   "cell_type": "code",
   "execution_count": 126,
   "metadata": {},
   "outputs": [],
   "source": [
    "# Training\n",
    "XTr = np.array(df20.drop('Q11', axis=1))\n",
    "YTr = np.array(df20.Q11)"
   ]
  },
  {
   "cell_type": "code",
   "execution_count": 127,
   "metadata": {},
   "outputs": [],
   "source": [
    "# Testing\n",
    "XTe = np.array(df22.drop('Q11', axis=1))\n",
    "YTe = np.array(df22.Q11)"
   ]
  },
  {
   "cell_type": "markdown",
   "metadata": {},
   "source": [
    "#### Scale data"
   ]
  },
  {
   "cell_type": "markdown",
   "metadata": {},
   "source": [
    "**StandardScaler**: Standardize features by removing the mean and scaling to unit variance.\n",
    "[doc](https://scikit-learn.org/stable/modules/generated/sklearn.preprocessing.StandardScaler.html)"
   ]
  },
  {
   "cell_type": "code",
   "execution_count": 128,
   "metadata": {},
   "outputs": [],
   "source": [
    "from sklearn.preprocessing import StandardScaler\n",
    "# Standardize features by removing the mean and scaling to unit variance."
   ]
  },
  {
   "cell_type": "markdown",
   "metadata": {},
   "source": [
    "**MinMaxScaler**: Transform features by scaling each feature to a given range. *Typically between 0 and 1*\n",
    "[doc](https://scikit-learn.org/stable/modules/generated/sklearn.preprocessing.MinMaxScaler.html)"
   ]
  },
  {
   "cell_type": "code",
   "execution_count": 129,
   "metadata": {},
   "outputs": [],
   "source": [
    "from sklearn.preprocessing import MinMaxScaler\n",
    "# max - 1, max = 0"
   ]
  },
  {
   "cell_type": "markdown",
   "metadata": {},
   "source": [
    "*Give me example where standard scaler would work better than minmax scaler?*\n",
    "\n",
    "A _standard scaler_ is typically better as it componsates for outliers *(especially with more data)*.\n",
    "A min max scaler will better scale with a smaller scale with less outliers as it equally compresses the range.\n",
    "\n",
    "In an example of n=10 vs n=10,000, the standard scaler would be better for the larger dataset as the scale would not be as affected by outliers. The compressed scale is based around the normally distributed. \n",
    "For n=10, the min max scaler could be better due to the the uniform scale compression."
   ]
  },
  {
   "cell_type": "code",
   "execution_count": 130,
   "metadata": {},
   "outputs": [],
   "source": [
    "scalerSS = StandardScaler()\n",
    "scalerMM = MinMaxScaler()\n",
    "\n",
    "# rescale the training data with two different ways\n",
    "scalerSS.fit(XTr)\n",
    "XTrNormSS = scalerSS.transform(XTr)\n",
    "\n",
    "scalerMM.fit(XTr)\n",
    "XTrNormMM = scalerMM.transform(XTr)"
   ]
  },
  {
   "cell_type": "markdown",
   "metadata": {},
   "source": [
    "*Should re-scale before or after the train/test partition?*\n",
    "\n",
    "Acceptable to scale before or after. Doing it after partition assumes that the partitions datasets will have the same distribution, and then, scale. "
   ]
  },
  {
   "cell_type": "markdown",
   "metadata": {},
   "source": [
    "#### Scale data manually"
   ]
  },
  {
   "cell_type": "code",
   "execution_count": 131,
   "metadata": {},
   "outputs": [],
   "source": [
    "# Manual formula for a Standard Scaler\n",
    "XTrNormSSv2 = (XTr - XTr.mean(axis=0))/XTr.std(axis=0)\n",
    "## subtract by mean, divide by standard deviation\n",
    "\n",
    "# Manual formula for a min max scaler\n",
    "XTrNormMMv2 = (XTr - XTr.min(axis=0))/(XTr.max(axis=0)-XTr.min(axis=0))\n",
    "## subtract by the min, but then divide by the difference of the max and min"
   ]
  },
  {
   "cell_type": "markdown",
   "metadata": {},
   "source": [
    "#### Question: How to apply scaling on test data?"
   ]
  },
  {
   "cell_type": "code",
   "execution_count": 132,
   "metadata": {},
   "outputs": [],
   "source": [
    "XTeNormSS = scalerSS.transform(XTe)"
   ]
  },
  {
   "cell_type": "markdown",
   "metadata": {},
   "source": [
    "#### Question: How to apply manual scaling on test data?"
   ]
  },
  {
   "cell_type": "markdown",
   "metadata": {},
   "source": [
    "## Predictive models\n",
    "\n",
    "#### Can we predict motivation?\n"
   ]
  },
  {
   "cell_type": "code",
   "execution_count": 133,
   "metadata": {},
   "outputs": [],
   "source": [
    "import warnings\n",
    "warnings.filterwarnings('ignore')\n",
    "\n",
    "import numpy as np\n",
    "\n",
    "# sklean's  Support Vector Machine algorithms\n",
    "## Epsilon-Support Vector Regression\n",
    "from sklearn.svm import SVR\n",
    "\n",
    "from sklearn.neighbors import KNeighborsClassifier\n",
    "from sklearn.linear_model import LogisticRegression\n",
    "from sklearn.tree import DecisionTreeClassifier\n",
    "\n",
    "import matplotlib.pyplot as plt"
   ]
  },
  {
   "cell_type": "code",
   "execution_count": null,
   "metadata": {},
   "outputs": [],
   "source": []
  },
  {
   "cell_type": "markdown",
   "metadata": {},
   "source": [
    "## Model Classifier Options"
   ]
  },
  {
   "cell_type": "markdown",
   "metadata": {},
   "source": [
    "### Chosing a model\n",
    " * Try to minimize misclassifications *(how can we best categorize clusters?)*\n",
    " * **Classification accuracy**: percentage of correct predictions\n",
    " * Linearly seperable data can use a linear classifier with high accuracy. *(but is all data that simple)*\n",
    " * **marginal seperation** is the minimum distance between two classifiers. Which classifier seperates with the largest margin?\n",
    " * an optimium classifier is the one that's both accurate *(low misclassification)* & generalizable *(high marginal separation)*\n",
    " * 100% accuracy might not be optimium. Might be better to take on a small amount of error to increase generalizability"
   ]
  },
  {
   "cell_type": "markdown",
   "metadata": {},
   "source": [
    "### Support Vector Machine algorithims -- An Epsilon-Support Vector Regression\n",
    "\n",
    "[[sub package doc]](https://scikit-learn.org/stable/modules/classes.html#module-sklearn.svm)   [[function doc]](https://scikit-learn.org/stable/modules/generated/sklearn.svm.SVR.html#sklearn.svm.SVR)"
   ]
  },
  {
   "cell_type": "markdown",
   "metadata": {},
   "source": [
    "**Linear Kernel**: Uses a linear regression to separate & classify"
   ]
  },
  {
   "cell_type": "code",
   "execution_count": 150,
   "metadata": {},
   "outputs": [],
   "source": [
    "# linear kernel\n",
    "mdl = SVR(kernel=\"linear\", C=100)\n",
    "## C=100 is the error tolerated"
   ]
  },
  {
   "cell_type": "markdown",
   "metadata": {},
   "source": [
    "**Radial basis function kernel**: "
   ]
  },
  {
   "cell_type": "code",
   "execution_count": null,
   "metadata": {},
   "outputs": [],
   "source": [
    "# Radial basis function kernel\n",
    "#mdl = SVR(kernel=\"rbf\")"
   ]
  },
  {
   "cell_type": "markdown",
   "metadata": {},
   "source": [
    "### Linear Regression"
   ]
  },
  {
   "cell_type": "code",
   "execution_count": null,
   "metadata": {},
   "outputs": [],
   "source": [
    "#mdl = LogisticRegression()"
   ]
  },
  {
   "cell_type": "markdown",
   "metadata": {},
   "source": [
    "### K-Nearest Neighbors"
   ]
  },
  {
   "cell_type": "code",
   "execution_count": null,
   "metadata": {},
   "outputs": [],
   "source": [
    "# K-Nearest Neighbors\n",
    "#mdl = KNeighborsClassifier(n_neighbors=3)\n",
    "## classifies by the nearest neighbor"
   ]
  },
  {
   "cell_type": "markdown",
   "metadata": {},
   "source": [
    "### Decision Tree Classifier \n",
    "It uses a decision tree (as a predictive model) to go from observations about an item (represented in the branches) to conclusions about the item's target value (represented in the leaves).\n",
    "[[Decision Tree doc]](https://scikit-learn.org/stable/modules/generated/sklearn.tree.DecisionTreeClassifier.html)"
   ]
  },
  {
   "cell_type": "code",
   "execution_count": 147,
   "metadata": {},
   "outputs": [],
   "source": [
    "# Decision Tree\n",
    "#mdl = DecisionTreeClassifier()"
   ]
  },
  {
   "cell_type": "markdown",
   "metadata": {},
   "source": [
    "## Training Model"
   ]
  },
  {
   "cell_type": "code",
   "execution_count": 151,
   "metadata": {},
   "outputs": [
    {
     "name": "stdout",
     "output_type": "stream",
     "text": [
      "SVR(C=100, kernel='linear')\n"
     ]
    }
   ],
   "source": [
    "print(mdl)\n",
    "# fitting training data with standard scaler\n",
    "clf = mdl.fit(XTrNormSS, YTr)\n",
    "\n",
    "predYTr = clf.predict(XTrNormSS) \n",
    "predYTe = clf.predict(XTeNormSS)"
   ]
  },
  {
   "cell_type": "code",
   "execution_count": 152,
   "metadata": {},
   "outputs": [
    {
     "data": {
      "text/plain": [
       "array([[1.        , 0.66541881],\n",
       "       [0.66541881, 1.        ]])"
      ]
     },
     "execution_count": 152,
     "metadata": {},
     "output_type": "execute_result"
    }
   ],
   "source": [
    "np.corrcoef(YTr.T, predYTr.T)"
   ]
  },
  {
   "cell_type": "code",
   "execution_count": 153,
   "metadata": {},
   "outputs": [
    {
     "data": {
      "text/plain": [
       "array([[1.        , 0.28996726],\n",
       "       [0.28996726, 1.        ]])"
      ]
     },
     "execution_count": 153,
     "metadata": {},
     "output_type": "execute_result"
    }
   ],
   "source": [
    "np.corrcoef(YTe.T, predYTe.T)"
   ]
  },
  {
   "cell_type": "code",
   "execution_count": 154,
   "metadata": {},
   "outputs": [
    {
     "data": {
      "image/png": "[encoded data removed]",
      "text/plain": [
       "<Figure size 432x288 with 1 Axes>"
      ]
     },
     "metadata": {
      "needs_background": "light"
     },
     "output_type": "display_data"
    }
   ],
   "source": [
    "sns.regplot(YTe.T, predYTe.T);"
   ]
  },
  {
   "cell_type": "code",
   "execution_count": 172,
   "metadata": {},
   "outputs": [
    {
     "data": {
      "text/plain": [
       "array([ 7.08827582, 10.11567607,  4.06568468,  4.80582981, 13.90413641,\n",
       "        9.51029835, 10.43320857,  4.2078163 , 11.62935037, 12.32746935,\n",
       "        2.09050731, 10.83080032, 12.48086025,  6.39166816,  7.97443719,\n",
       "        7.73202042,  2.75577048, 13.90127094,  6.81430818,  6.23950216,\n",
       "        7.43211302,  4.44735142,  5.80595323,  1.26264653,  5.82910714,\n",
       "        2.10952877,  5.46395145])"
      ]
     },
     "execution_count": 172,
     "metadata": {},
     "output_type": "execute_result"
    }
   ],
   "source": [
    "#metrics.accuracy_score(np.array(YTe).astype(float), np.array(predYTe))\n",
    "np.array(predYTe)"
   ]
  }
 ],
 "metadata": {
  "kernelspec": {
   "display_name": "Python 3 (ipykernel)",
   "language": "python",
   "name": "python3"
  },
  "language_info": {
   "codemirror_mode": {
    "name": "ipython",
    "version": 3
   },
   "file_extension": ".py",
   "mimetype": "text/x-python",
   "name": "python",
   "nbconvert_exporter": "python",
   "pygments_lexer": "ipython3",
   "version": "3.9.9"
  }
 },
 "nbformat": 4,
 "nbformat_minor": 2
}
